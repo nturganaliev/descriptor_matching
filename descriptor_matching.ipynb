{
 "cells": [
  {
   "cell_type": "code",
   "execution_count": 2,
   "metadata": {},
   "outputs": [
    {
     "name": "stderr",
     "output_type": "stream",
     "text": [
      "[ WARN:0@26.180] global loadsave.cpp:248 findDecoder imread_('image1.jpg'): can't open/read file: check file path/integrity\n",
      "[ WARN:0@26.180] global loadsave.cpp:248 findDecoder imread_('image2.jpg'): can't open/read file: check file path/integrity\n"
     ]
    },
    {
     "ename": "error",
     "evalue": "OpenCV(4.9.0) /io/opencv/modules/imgproc/src/color.cpp:196: error: (-215:Assertion failed) !_src.empty() in function 'cvtColor'\n",
     "output_type": "error",
     "traceback": [
      "\u001b[0;31m---------------------------------------------------------------------------\u001b[0m",
      "\u001b[0;31merror\u001b[0m                                     Traceback (most recent call last)",
      "Cell \u001b[0;32mIn[2], line 57\u001b[0m\n\u001b[1;32m     54\u001b[0m matches \u001b[38;5;241m=\u001b[39m \u001b[38;5;28msorted\u001b[39m(matches, key\u001b[38;5;241m=\u001b[39m\u001b[38;5;28;01mlambda\u001b[39;00m x: x\u001b[38;5;241m.\u001b[39mdistance)\n\u001b[1;32m     56\u001b[0m \u001b[38;5;66;03m# Draw matches\u001b[39;00m\n\u001b[0;32m---> 57\u001b[0m img_matches \u001b[38;5;241m=\u001b[39m \u001b[43mcv2\u001b[49m\u001b[38;5;241;43m.\u001b[39;49m\u001b[43mdrawMatches\u001b[49m\u001b[43m(\u001b[49m\u001b[43mimg1\u001b[49m\u001b[43m,\u001b[49m\u001b[43m \u001b[49m\u001b[43mkeypoints1\u001b[49m\u001b[43m,\u001b[49m\u001b[43m \u001b[49m\u001b[43mimg2\u001b[49m\u001b[43m,\u001b[49m\u001b[43m \u001b[49m\u001b[43mkeypoints2\u001b[49m\u001b[43m,\u001b[49m\u001b[43m \u001b[49m\u001b[43mmatches\u001b[49m\u001b[43m[\u001b[49m\u001b[43m:\u001b[49m\u001b[38;5;241;43m10\u001b[39;49m\u001b[43m]\u001b[49m\u001b[43m,\u001b[49m\u001b[43m \u001b[49m\u001b[38;5;28;43;01mNone\u001b[39;49;00m\u001b[43m,\u001b[49m\u001b[43m \u001b[49m\u001b[43mflags\u001b[49m\u001b[38;5;241;43m=\u001b[39;49m\u001b[43mcv2\u001b[49m\u001b[38;5;241;43m.\u001b[39;49m\u001b[43mDrawMatchesFlags_NOT_DRAW_SINGLE_POINTS\u001b[49m\u001b[43m)\u001b[49m\n\u001b[1;32m     59\u001b[0m \u001b[38;5;66;03m# Convert the image to RGB format (Matplotlib uses RGB)\u001b[39;00m\n\u001b[1;32m     60\u001b[0m img_matches_rgb \u001b[38;5;241m=\u001b[39m cv2\u001b[38;5;241m.\u001b[39mcvtColor(img_matches, cv2\u001b[38;5;241m.\u001b[39mCOLOR_BGR2RGB)\n",
      "\u001b[0;31merror\u001b[0m: OpenCV(4.9.0) /io/opencv/modules/imgproc/src/color.cpp:196: error: (-215:Assertion failed) !_src.empty() in function 'cvtColor'\n"
     ]
    }
   ],
   "source": [
    "# import cv2\n",
    "# import numpy as np\n",
    "\n",
    "# # Load images\n",
    "# img1 = cv2.imread('dicaprio2.jpg', cv2.IMREAD_GRAYSCALE)\n",
    "# img2 = cv2.imread('dicaprio3.jpg', cv2.IMREAD_GRAYSCALE)\n",
    "\n",
    "# # Initialize ORB detector\n",
    "# orb = cv2.ORB_create()\n",
    "\n",
    "# # Find keypoints and descriptors\n",
    "# keypoints1, descriptors1 = orb.detectAndCompute(img1, None)\n",
    "# keypoints2, descriptors2 = orb.detectAndCompute(img2, None)\n",
    "\n",
    "# # Initialize BFMatcher (Brute-Force Matcher)\n",
    "# bf = cv2.BFMatcher(cv2.NORM_HAMMING, crossCheck=True)\n",
    "\n",
    "# # Match descriptors\n",
    "# matches = bf.match(descriptors1, descriptors2)\n",
    "\n",
    "# # Sort matches by distance\n",
    "# matches = sorted(matches, key=lambda x: x.distance)\n",
    "\n",
    "# # Draw matches\n",
    "# img_matches = cv2.drawMatches(img1, keypoints1, img2, keypoints2, matches[:10], None, flags=cv2.DrawMatchesFlags_NOT_DRAW_SINGLE_POINTS)\n",
    "\n",
    "# # Display the matches\n",
    "# cv2.imshow('Matches', img_matches)\n",
    "# cv2.waitKey(0)\n",
    "# cv2.destroyAllWindows()\n",
    "\n",
    "import cv2\n",
    "import numpy as np\n",
    "import matplotlib.pyplot as plt\n",
    "\n",
    "# Load images\n",
    "img1 = cv2.imread('dicaprio2.jpg', cv2.IMREAD_GRAYSCALE)\n",
    "img2 = cv2.imread('dicaprio3.jpg', cv2.IMREAD_GRAYSCALE)\n",
    "\n",
    "# Initialize ORB detector\n",
    "orb = cv2.ORB_create()\n",
    "\n",
    "# Find keypoints and descriptors\n",
    "keypoints1, descriptors1 = orb.detectAndCompute(img1, None)\n",
    "keypoints2, descriptors2 = orb.detectAndCompute(img2, None)\n",
    "\n",
    "# Initialize BFMatcher (Brute-Force Matcher)\n",
    "bf = cv2.BFMatcher(cv2.NORM_HAMMING, crossCheck=True)\n",
    "\n",
    "# Match descriptors\n",
    "matches = bf.match(descriptors1, descriptors2)\n",
    "\n",
    "# Sort matches by distance\n",
    "matches = sorted(matches, key=lambda x: x.distance)\n",
    "\n",
    "# Draw matches\n",
    "img_matches = cv2.drawMatches(img1, keypoints1, img2, keypoints2, matches[:10], None, flags=cv2.DrawMatchesFlags_NOT_DRAW_SINGLE_POINTS)\n",
    "\n",
    "# Convert the image to RGB format (Matplotlib uses RGB)\n",
    "img_matches_rgb = cv2.cvtColor(img_matches, cv2.COLOR_BGR2RGB)\n",
    "\n",
    "# Plot the matches using Matplotlib\n",
    "plt.figure(figsize=(12, 6))\n",
    "plt.imshow(img_matches_rgb)\n",
    "plt.axis('off')  # Turn off axis\n",
    "plt.title('Top Matches')\n",
    "plt.show()\n",
    "\n"
   ]
  }
 ],
 "metadata": {
  "kernelspec": {
   "display_name": ".venv",
   "language": "python",
   "name": "python3"
  },
  "language_info": {
   "codemirror_mode": {
    "name": "ipython",
    "version": 3
   },
   "file_extension": ".py",
   "mimetype": "text/x-python",
   "name": "python",
   "nbconvert_exporter": "python",
   "pygments_lexer": "ipython3",
   "version": "3.10.12"
  }
 },
 "nbformat": 4,
 "nbformat_minor": 2
}
